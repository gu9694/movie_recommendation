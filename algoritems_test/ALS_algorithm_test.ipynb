{
 "cells": [
  {
   "cell_type": "code",
   "execution_count": 1,
   "metadata": {},
   "outputs": [
    {
     "data": {
      "text/html": [
       "<div>\n",
       "<style scoped>\n",
       "    .dataframe tbody tr th:only-of-type {\n",
       "        vertical-align: middle;\n",
       "    }\n",
       "\n",
       "    .dataframe tbody tr th {\n",
       "        vertical-align: top;\n",
       "    }\n",
       "\n",
       "    .dataframe thead th {\n",
       "        text-align: right;\n",
       "    }\n",
       "</style>\n",
       "<table border=\"1\" class=\"dataframe\">\n",
       "  <thead>\n",
       "    <tr style=\"text-align: right;\">\n",
       "      <th></th>\n",
       "      <th>user_id</th>\n",
       "      <th>item_id</th>\n",
       "      <th>rating</th>\n",
       "      <th>timestamp</th>\n",
       "    </tr>\n",
       "  </thead>\n",
       "  <tbody>\n",
       "    <tr>\n",
       "      <th>0</th>\n",
       "      <td>10001</td>\n",
       "      <td>55</td>\n",
       "      <td>5</td>\n",
       "      <td>875072688</td>\n",
       "    </tr>\n",
       "    <tr>\n",
       "      <th>1</th>\n",
       "      <td>10001</td>\n",
       "      <td>203</td>\n",
       "      <td>4</td>\n",
       "      <td>878542231</td>\n",
       "    </tr>\n",
       "    <tr>\n",
       "      <th>2</th>\n",
       "      <td>10001</td>\n",
       "      <td>183</td>\n",
       "      <td>5</td>\n",
       "      <td>875072262</td>\n",
       "    </tr>\n",
       "    <tr>\n",
       "      <th>3</th>\n",
       "      <td>10001</td>\n",
       "      <td>150</td>\n",
       "      <td>5</td>\n",
       "      <td>876892196</td>\n",
       "    </tr>\n",
       "    <tr>\n",
       "      <th>4</th>\n",
       "      <td>10001</td>\n",
       "      <td>68</td>\n",
       "      <td>4</td>\n",
       "      <td>875072688</td>\n",
       "    </tr>\n",
       "  </tbody>\n",
       "</table>\n",
       "</div>"
      ],
      "text/plain": [
       "   user_id  item_id  rating  timestamp\n",
       "0    10001       55       5  875072688\n",
       "1    10001      203       4  878542231\n",
       "2    10001      183       5  875072262\n",
       "3    10001      150       5  876892196\n",
       "4    10001       68       4  875072688"
      ]
     },
     "execution_count": 1,
     "metadata": {},
     "output_type": "execute_result"
    }
   ],
   "source": [
    "import pandas as pd\n",
    "import seaborn as sns\n",
    "import matplotlib.pyplot as plt\n",
    "df = pd.read_csv('df_userratings.csv')\n",
    "df.head()"
   ]
  },
  {
   "cell_type": "code",
   "execution_count": 2,
   "metadata": {},
   "outputs": [
    {
     "data": {
      "text/html": [
       "<div>\n",
       "<style scoped>\n",
       "    .dataframe tbody tr th:only-of-type {\n",
       "        vertical-align: middle;\n",
       "    }\n",
       "\n",
       "    .dataframe tbody tr th {\n",
       "        vertical-align: top;\n",
       "    }\n",
       "\n",
       "    .dataframe thead th {\n",
       "        text-align: right;\n",
       "    }\n",
       "</style>\n",
       "<table border=\"1\" class=\"dataframe\">\n",
       "  <thead>\n",
       "    <tr style=\"text-align: right;\">\n",
       "      <th></th>\n",
       "      <th>movie_id</th>\n",
       "      <th>movie_title</th>\n",
       "      <th>year</th>\n",
       "      <th>release_date</th>\n",
       "      <th>video_release_date</th>\n",
       "      <th>IMDb_URL</th>\n",
       "      <th>unknown</th>\n",
       "      <th>Action</th>\n",
       "      <th>Adventure</th>\n",
       "      <th>Animation</th>\n",
       "      <th>...</th>\n",
       "      <th>Fantasy</th>\n",
       "      <th>Film-Noir</th>\n",
       "      <th>Horror</th>\n",
       "      <th>Musical</th>\n",
       "      <th>Mystery</th>\n",
       "      <th>Romance</th>\n",
       "      <th>Sci-Fi</th>\n",
       "      <th>Thriller</th>\n",
       "      <th>War</th>\n",
       "      <th>Western</th>\n",
       "    </tr>\n",
       "  </thead>\n",
       "  <tbody>\n",
       "    <tr>\n",
       "      <th>0</th>\n",
       "      <td>1</td>\n",
       "      <td>Toy Story</td>\n",
       "      <td>1995</td>\n",
       "      <td>01-Jan-1995</td>\n",
       "      <td>NaN</td>\n",
       "      <td>http://us.imdb.com/M/title-exact?Toy%20Story%2...</td>\n",
       "      <td>0</td>\n",
       "      <td>0</td>\n",
       "      <td>0</td>\n",
       "      <td>1</td>\n",
       "      <td>...</td>\n",
       "      <td>0</td>\n",
       "      <td>0</td>\n",
       "      <td>0</td>\n",
       "      <td>0</td>\n",
       "      <td>0</td>\n",
       "      <td>0</td>\n",
       "      <td>0</td>\n",
       "      <td>0</td>\n",
       "      <td>0</td>\n",
       "      <td>0</td>\n",
       "    </tr>\n",
       "    <tr>\n",
       "      <th>1</th>\n",
       "      <td>2</td>\n",
       "      <td>GoldenEye</td>\n",
       "      <td>1995</td>\n",
       "      <td>01-Jan-1995</td>\n",
       "      <td>NaN</td>\n",
       "      <td>http://us.imdb.com/M/title-exact?GoldenEye%20(...</td>\n",
       "      <td>0</td>\n",
       "      <td>1</td>\n",
       "      <td>1</td>\n",
       "      <td>0</td>\n",
       "      <td>...</td>\n",
       "      <td>0</td>\n",
       "      <td>0</td>\n",
       "      <td>0</td>\n",
       "      <td>0</td>\n",
       "      <td>0</td>\n",
       "      <td>0</td>\n",
       "      <td>0</td>\n",
       "      <td>1</td>\n",
       "      <td>0</td>\n",
       "      <td>0</td>\n",
       "    </tr>\n",
       "    <tr>\n",
       "      <th>2</th>\n",
       "      <td>3</td>\n",
       "      <td>Four Rooms</td>\n",
       "      <td>1995</td>\n",
       "      <td>01-Jan-1995</td>\n",
       "      <td>NaN</td>\n",
       "      <td>http://us.imdb.com/M/title-exact?Four%20Rooms%...</td>\n",
       "      <td>0</td>\n",
       "      <td>0</td>\n",
       "      <td>0</td>\n",
       "      <td>0</td>\n",
       "      <td>...</td>\n",
       "      <td>0</td>\n",
       "      <td>0</td>\n",
       "      <td>0</td>\n",
       "      <td>0</td>\n",
       "      <td>0</td>\n",
       "      <td>0</td>\n",
       "      <td>0</td>\n",
       "      <td>1</td>\n",
       "      <td>0</td>\n",
       "      <td>0</td>\n",
       "    </tr>\n",
       "    <tr>\n",
       "      <th>3</th>\n",
       "      <td>4</td>\n",
       "      <td>Get Shorty</td>\n",
       "      <td>1995</td>\n",
       "      <td>01-Jan-1995</td>\n",
       "      <td>NaN</td>\n",
       "      <td>http://us.imdb.com/M/title-exact?Get%20Shorty%...</td>\n",
       "      <td>0</td>\n",
       "      <td>1</td>\n",
       "      <td>0</td>\n",
       "      <td>0</td>\n",
       "      <td>...</td>\n",
       "      <td>0</td>\n",
       "      <td>0</td>\n",
       "      <td>0</td>\n",
       "      <td>0</td>\n",
       "      <td>0</td>\n",
       "      <td>0</td>\n",
       "      <td>0</td>\n",
       "      <td>0</td>\n",
       "      <td>0</td>\n",
       "      <td>0</td>\n",
       "    </tr>\n",
       "    <tr>\n",
       "      <th>4</th>\n",
       "      <td>5</td>\n",
       "      <td>Copycat</td>\n",
       "      <td>1995</td>\n",
       "      <td>01-Jan-1995</td>\n",
       "      <td>NaN</td>\n",
       "      <td>http://us.imdb.com/M/title-exact?Copycat%20(1995)</td>\n",
       "      <td>0</td>\n",
       "      <td>0</td>\n",
       "      <td>0</td>\n",
       "      <td>0</td>\n",
       "      <td>...</td>\n",
       "      <td>0</td>\n",
       "      <td>0</td>\n",
       "      <td>0</td>\n",
       "      <td>0</td>\n",
       "      <td>0</td>\n",
       "      <td>0</td>\n",
       "      <td>0</td>\n",
       "      <td>1</td>\n",
       "      <td>0</td>\n",
       "      <td>0</td>\n",
       "    </tr>\n",
       "  </tbody>\n",
       "</table>\n",
       "<p>5 rows × 25 columns</p>\n",
       "</div>"
      ],
      "text/plain": [
       "   movie_id  movie_title  year release_date  video_release_date  \\\n",
       "0         1   Toy Story   1995  01-Jan-1995                 NaN   \n",
       "1         2   GoldenEye   1995  01-Jan-1995                 NaN   \n",
       "2         3  Four Rooms   1995  01-Jan-1995                 NaN   \n",
       "3         4  Get Shorty   1995  01-Jan-1995                 NaN   \n",
       "4         5     Copycat   1995  01-Jan-1995                 NaN   \n",
       "\n",
       "                                            IMDb_URL  unknown  Action  \\\n",
       "0  http://us.imdb.com/M/title-exact?Toy%20Story%2...        0       0   \n",
       "1  http://us.imdb.com/M/title-exact?GoldenEye%20(...        0       1   \n",
       "2  http://us.imdb.com/M/title-exact?Four%20Rooms%...        0       0   \n",
       "3  http://us.imdb.com/M/title-exact?Get%20Shorty%...        0       1   \n",
       "4  http://us.imdb.com/M/title-exact?Copycat%20(1995)        0       0   \n",
       "\n",
       "   Adventure  Animation   ...     Fantasy  Film-Noir  Horror  Musical  \\\n",
       "0          0          1   ...           0          0       0        0   \n",
       "1          1          0   ...           0          0       0        0   \n",
       "2          0          0   ...           0          0       0        0   \n",
       "3          0          0   ...           0          0       0        0   \n",
       "4          0          0   ...           0          0       0        0   \n",
       "\n",
       "   Mystery  Romance  Sci-Fi  Thriller  War  Western  \n",
       "0        0        0       0         0    0        0  \n",
       "1        0        0       0         1    0        0  \n",
       "2        0        0       0         1    0        0  \n",
       "3        0        0       0         0    0        0  \n",
       "4        0        0       0         1    0        0  \n",
       "\n",
       "[5 rows x 25 columns]"
      ]
     },
     "execution_count": 2,
     "metadata": {},
     "output_type": "execute_result"
    }
   ],
   "source": [
    "df_movie=pd.read_csv('df_movies.csv')\n",
    "df_movie.head()"
   ]
  },
  {
   "cell_type": "code",
   "execution_count": 43,
   "metadata": {},
   "outputs": [
    {
     "data": {
      "text/plain": [
       "20"
      ]
     },
     "execution_count": 43,
     "metadata": {},
     "output_type": "execute_result"
    },
    {
     "data": {
      "image/png": "[encoded data removed]",
      "text/plain": [
       "<Figure size 432x288 with 1 Axes>"
      ]
     },
     "metadata": {
      "needs_background": "light"
     },
     "output_type": "display_data"
    }
   ],
   "source": [
    "import numpy as np\n",
    "n=df.groupby('user_id')['rating'].count();\n",
    "plt.hist(n,bins=np.arange(0,700,10));\n",
    "plt.title('Users\\' ratings frequency')\n",
    "plt.xlabel('rating number')\n",
    "plt.ylabel('frequency')\n",
    "min(df.groupby('user_id')['rating'].count())"
   ]
  },
  {
   "cell_type": "code",
   "execution_count": 47,
   "metadata": {},
   "outputs": [
    {
     "data": {
      "text/plain": [
       "Text(0, 0.5, 'number')"
      ]
     },
     "execution_count": 47,
     "metadata": {},
     "output_type": "execute_result"
    },
    {
     "data": {
      "image/png": "[encoded data removed]",
      "text/plain": [
       "<Figure size 432x288 with 1 Axes>"
      ]
     },
     "metadata": {
      "needs_background": "light"
     },
     "output_type": "display_data"
    }
   ],
   "source": [
    "df_movie.year.hist(bins=np.arange(1922,2000,1),grid=False)\n",
    "plt.title('movie number by year')\n",
    "plt.xlabel('movie number')\n",
    "plt.ylabel('number')"
   ]
  },
  {
   "cell_type": "code",
   "execution_count": 50,
   "metadata": {},
   "outputs": [
    {
     "data": {
      "text/html": [
       "<div>\n",
       "<style scoped>\n",
       "    .dataframe tbody tr th:only-of-type {\n",
       "        vertical-align: middle;\n",
       "    }\n",
       "\n",
       "    .dataframe tbody tr th {\n",
       "        vertical-align: top;\n",
       "    }\n",
       "\n",
       "    .dataframe thead th {\n",
       "        text-align: right;\n",
       "    }\n",
       "</style>\n",
       "<table border=\"1\" class=\"dataframe\">\n",
       "  <thead>\n",
       "    <tr style=\"text-align: right;\">\n",
       "      <th></th>\n",
       "      <th>uid</th>\n",
       "      <th>first_name</th>\n",
       "      <th>last_name</th>\n",
       "      <th>gender</th>\n",
       "      <th>age</th>\n",
       "      <th>email</th>\n",
       "      <th>password</th>\n",
       "    </tr>\n",
       "  </thead>\n",
       "  <tbody>\n",
       "    <tr>\n",
       "      <th>0</th>\n",
       "      <td>10001</td>\n",
       "      <td>Rage</td>\n",
       "      <td>GERMANO</td>\n",
       "      <td>F</td>\n",
       "      <td>34</td>\n",
       "      <td>10001@deepmovie.com</td>\n",
       "      <td>10001Rage</td>\n",
       "    </tr>\n",
       "    <tr>\n",
       "      <th>1</th>\n",
       "      <td>10002</td>\n",
       "      <td>Allyse</td>\n",
       "      <td>ALCID</td>\n",
       "      <td>F</td>\n",
       "      <td>23</td>\n",
       "      <td>10002@deepmovie.com</td>\n",
       "      <td>10002Allyse</td>\n",
       "    </tr>\n",
       "    <tr>\n",
       "      <th>2</th>\n",
       "      <td>10003</td>\n",
       "      <td>Catelyn</td>\n",
       "      <td>SATTA</td>\n",
       "      <td>M</td>\n",
       "      <td>43</td>\n",
       "      <td>10003@deepmovie.com</td>\n",
       "      <td>10003Catelyn</td>\n",
       "    </tr>\n",
       "    <tr>\n",
       "      <th>3</th>\n",
       "      <td>10004</td>\n",
       "      <td>Icelynn</td>\n",
       "      <td>CANOLE</td>\n",
       "      <td>M</td>\n",
       "      <td>33</td>\n",
       "      <td>10004@deepmovie.com</td>\n",
       "      <td>10004Icelynn</td>\n",
       "    </tr>\n",
       "    <tr>\n",
       "      <th>4</th>\n",
       "      <td>10005</td>\n",
       "      <td>Larkyn</td>\n",
       "      <td>PASSIONE</td>\n",
       "      <td>F</td>\n",
       "      <td>31</td>\n",
       "      <td>10005@deepmovie.com</td>\n",
       "      <td>10005Larkyn</td>\n",
       "    </tr>\n",
       "  </tbody>\n",
       "</table>\n",
       "</div>"
      ],
      "text/plain": [
       "     uid first_name last_name gender  age                email      password\n",
       "0  10001       Rage   GERMANO      F   34  10001@deepmovie.com     10001Rage\n",
       "1  10002     Allyse     ALCID      F   23  10002@deepmovie.com   10002Allyse\n",
       "2  10003    Catelyn     SATTA      M   43  10003@deepmovie.com  10003Catelyn\n",
       "3  10004    Icelynn    CANOLE      M   33  10004@deepmovie.com  10004Icelynn\n",
       "4  10005     Larkyn  PASSIONE      F   31  10005@deepmovie.com   10005Larkyn"
      ]
     },
     "execution_count": 50,
     "metadata": {},
     "output_type": "execute_result"
    }
   ],
   "source": [
    "df_users=pd.read_csv('users.csv')\n",
    "df_users.head()"
   ]
  },
  {
   "cell_type": "code",
   "execution_count": 52,
   "metadata": {},
   "outputs": [
    {
     "data": {
      "text/html": [
       "<div>\n",
       "<style scoped>\n",
       "    .dataframe tbody tr th:only-of-type {\n",
       "        vertical-align: middle;\n",
       "    }\n",
       "\n",
       "    .dataframe tbody tr th {\n",
       "        vertical-align: top;\n",
       "    }\n",
       "\n",
       "    .dataframe thead th {\n",
       "        text-align: right;\n",
       "    }\n",
       "</style>\n",
       "<table border=\"1\" class=\"dataframe\">\n",
       "  <thead>\n",
       "    <tr style=\"text-align: right;\">\n",
       "      <th></th>\n",
       "      <th>movie_id</th>\n",
       "      <th>movie_title</th>\n",
       "      <th>img_url</th>\n",
       "    </tr>\n",
       "  </thead>\n",
       "  <tbody>\n",
       "    <tr>\n",
       "      <th>0</th>\n",
       "      <td>348</td>\n",
       "      <td>Desperate Measures</td>\n",
       "      <td>https://m.media-amazon.com/images/M/MV5BMzk0Mz...</td>\n",
       "    </tr>\n",
       "    <tr>\n",
       "      <th>1</th>\n",
       "      <td>916</td>\n",
       "      <td>Lost in Space</td>\n",
       "      <td>https://m.media-amazon.com/images/M/MV5BMTkwNz...</td>\n",
       "    </tr>\n",
       "    <tr>\n",
       "      <th>2</th>\n",
       "      <td>917</td>\n",
       "      <td>Mercury Rising</td>\n",
       "      <td>https://m.media-amazon.com/images/M/MV5BODA2Nm...</td>\n",
       "    </tr>\n",
       "    <tr>\n",
       "      <th>3</th>\n",
       "      <td>918</td>\n",
       "      <td>City of Angels</td>\n",
       "      <td>https://m.media-amazon.com/images/M/MV5BZjk2OT...</td>\n",
       "    </tr>\n",
       "    <tr>\n",
       "      <th>4</th>\n",
       "      <td>1594</td>\n",
       "      <td>Everest</td>\n",
       "      <td>https://m.media-amazon.com/images/M/MV5BMTUwNz...</td>\n",
       "    </tr>\n",
       "  </tbody>\n",
       "</table>\n",
       "</div>"
      ],
      "text/plain": [
       "   movie_id         movie_title  \\\n",
       "0       348  Desperate Measures   \n",
       "1       916       Lost in Space   \n",
       "2       917      Mercury Rising   \n",
       "3       918      City of Angels   \n",
       "4      1594             Everest   \n",
       "\n",
       "                                             img_url  \n",
       "0  https://m.media-amazon.com/images/M/MV5BMzk0Mz...  \n",
       "1  https://m.media-amazon.com/images/M/MV5BMTkwNz...  \n",
       "2  https://m.media-amazon.com/images/M/MV5BODA2Nm...  \n",
       "3  https://m.media-amazon.com/images/M/MV5BZjk2OT...  \n",
       "4  https://m.media-amazon.com/images/M/MV5BMTUwNz...  "
      ]
     },
     "execution_count": 52,
     "metadata": {},
     "output_type": "execute_result"
    }
   ],
   "source": [
    "df_url=pd.read_csv('img_url.csv')\n",
    "df_url.head()"
   ]
  },
  {
   "cell_type": "code",
   "execution_count": 58,
   "metadata": {},
   "outputs": [
    {
     "data": {
      "image/png": "[encoded data removed]",
      "text/plain": [
       "<Figure size 720x432 with 1 Axes>"
      ]
     },
     "metadata": {
      "needs_background": "light"
     },
     "output_type": "display_data"
    }
   ],
   "source": [
    "def changingLabels(number):\n",
    "    return str(number/10**3) + \"K\"\n",
    "plt.figure(figsize = (10, 6))\n",
    "ax = sns.countplot(x=\"rating\", data=df)\n",
    "\n",
    "ax.set_yticklabels([changingLabels(num) for num in ax.get_yticks()])\n",
    "\n",
    "plt.tick_params(labelsize = 15)\n",
    "plt.title(\"Distribution of Ratings in user_rating data\", fontsize = 20)\n",
    "plt.xlabel(\"Ratings\", fontsize = 20)\n",
    "plt.ylabel(\"Number of Ratings(thousands)\", fontsize = 20)\n",
    "plt.show()"
   ]
  },
  {
   "cell_type": "code",
   "execution_count": 3,
   "metadata": {},
   "outputs": [
    {
     "data": {
      "text/plain": [
       "<matplotlib.legend.Legend at 0x209805bf208>"
      ]
     },
     "execution_count": 3,
     "metadata": {},
     "output_type": "execute_result"
    },
    {
     "data": {
      "image/png": "[encoded data removed]",
      "text/plain": [
       "<Figure size 1152x504 with 2 Axes>"
      ]
     },
     "metadata": {
      "needs_background": "light"
     },
     "output_type": "display_data"
    }
   ],
   "source": [
    "rating_peruser=df.groupby('user_id')['rating'].mean()\n",
    "rating_peruser=list(rating_peruser)\n",
    "rating_permovie=df.groupby('item_id')['rating'].mean()\n",
    "rating_permovie=list(rating_permovie)\n",
    "fig, axes = plt.subplots(nrows = 1, ncols = 2, figsize = (16, 7))\n",
    "sns.distplot(rating_peruser, hist = False, ax = axes[0], label = \"PDF\")\n",
    "sns.kdeplot(rating_peruser, cumulative = True, ax = axes[0], label = \"CDF\")\n",
    "axes[0].set_title(\"Average Rating Per User\", fontsize=20)\n",
    "axes[0].tick_params(labelsize = 15)\n",
    "axes[0].legend(loc='upper left', fontsize = 17)\n",
    "\n",
    "sns.distplot(rating_permovie, hist = False, ax = axes[1], label = \"PDF\")\n",
    "sns.kdeplot(rating_permovie, cumulative = True, ax = axes[1], label = \"CDF\")\n",
    "axes[1].set_title(\"Average Rating Per Movie\", fontsize=20)\n",
    "axes[1].tick_params(labelsize = 15)\n",
    "axes[1].legend(loc='upper left', fontsize = 17)"
   ]
  },
  {
   "cell_type": "code",
   "execution_count": 8,
   "metadata": {},
   "outputs": [
    {
     "name": "stdout",
     "output_type": "stream",
     "text": [
      "100000\n",
      "[10001, 55, 5, 875072688]\n"
     ]
    }
   ],
   "source": [
    "from pyspark import  SparkContext\n",
    "import numpy as np\n",
    "# begin train model\n",
    "\n",
    "itemRDD = sc.parallelize(np.array(df_movie).tolist())\n",
    "sc = SparkContext.getOrCreate()\n",
    "rawUserData=sc.parallelize(np.array(df).tolist())\n",
    "header = rawUserData.first()\n",
    "print(rawUserData.count()) #print the number of lines\n",
    "print(rawUserData.first()) #first data(userID projectID evaluate Date)"
   ]
  },
  {
   "cell_type": "code",
   "execution_count": 5,
   "metadata": {},
   "outputs": [],
   "source": [
    "def train_ALS(train_data, validation_data, num_iters, reg_param, ranks):\n",
    "    \"\"\"\n",
    "    Grid Search Function to select the best model based on RMSE of hold-out data\n",
    "    \"\"\"\n",
    "    # initial\n",
    "    min_error = float('inf')\n",
    "    best_rank = -1\n",
    "    best_regularization = 0\n",
    "    best_model = None\n",
    "    for rank in ranks:\n",
    "        for reg in reg_param:\n",
    "            # train ALS model\n",
    "            model = ALS.train(\n",
    "                ratings=train_data,    # (userID, productID, rating) tuple\n",
    "                iterations=num_iters,\n",
    "                rank=rank,\n",
    "                lambda_=reg,           # regularization param\n",
    "                seed=99)\n",
    "            # make prediction\n",
    "            valid_data = validation_data.map(lambda p: (p[0], p[1]))\n",
    "            predictions = model.predictAll(valid_data).map(lambda r: ((r[0], r[1]), r[2]))\n",
    "            # get the rating result\n",
    "            ratesAndPreds = validation_data.map(lambda r: ((r[0], r[1]), r[2])).join(predictions)\n",
    "            # get the RMSE\n",
    "            MSE = ratesAndPreds.map(lambda r: (r[1][0] - r[1][1])**2).mean()\n",
    "            error = math.sqrt(MSE)\n",
    "            print('{} latent factors and regularization = {}: validation RMSE is {}'.format(rank, reg, error))\n",
    "            if error < min_error:\n",
    "                min_error = error\n",
    "                best_rank = rank\n",
    "                best_regularization = reg\n",
    "                best_model = model\n",
    "    print('\\nThe best model has {} latent factors and regularization = {}'.format(best_rank, best_regularization))\n",
    "    return best_model"
   ]
  },
  {
   "cell_type": "code",
   "execution_count": 6,
   "metadata": {},
   "outputs": [
    {
     "name": "stdout",
     "output_type": "stream",
     "text": [
      "8 latent factors and regularization = 0.001: validation RMSE is 1.4363302779692722\n",
      "8 latent factors and regularization = 0.01: validation RMSE is 1.1443006171363697\n",
      "8 latent factors and regularization = 0.05: validation RMSE is 0.9910235526924505\n",
      "8 latent factors and regularization = 0.1: validation RMSE is 0.9444140419411879\n",
      "8 latent factors and regularization = 0.2: validation RMSE is 0.9447917785095413\n",
      "10 latent factors and regularization = 0.001: validation RMSE is 1.4618065994769907\n",
      "10 latent factors and regularization = 0.01: validation RMSE is 1.1616529762635885\n",
      "10 latent factors and regularization = 0.05: validation RMSE is 1.0028869259104032\n",
      "10 latent factors and regularization = 0.1: validation RMSE is 0.9496430380248007\n",
      "10 latent factors and regularization = 0.2: validation RMSE is 0.9502912084230765\n",
      "12 latent factors and regularization = 0.001: validation RMSE is 1.5785574230200026\n",
      "12 latent factors and regularization = 0.01: validation RMSE is 1.2131041109754328\n",
      "12 latent factors and regularization = 0.05: validation RMSE is 1.010131609012304\n",
      "12 latent factors and regularization = 0.1: validation RMSE is 0.9498912774347054\n",
      "12 latent factors and regularization = 0.2: validation RMSE is 0.9481307586027002\n",
      "14 latent factors and regularization = 0.001: validation RMSE is 1.6057137464229434\n",
      "14 latent factors and regularization = 0.01: validation RMSE is 1.2223295035697725\n",
      "14 latent factors and regularization = 0.05: validation RMSE is 1.0075271944206419\n",
      "14 latent factors and regularization = 0.1: validation RMSE is 0.951188752292658\n",
      "14 latent factors and regularization = 0.2: validation RMSE is 0.9494554790595877\n",
      "16 latent factors and regularization = 0.001: validation RMSE is 1.59455001799046\n",
      "16 latent factors and regularization = 0.01: validation RMSE is 1.24410400502104\n",
      "16 latent factors and regularization = 0.05: validation RMSE is 1.010968867892974\n",
      "16 latent factors and regularization = 0.1: validation RMSE is 0.9486479334650118\n",
      "16 latent factors and regularization = 0.2: validation RMSE is 0.9490814380535593\n",
      "18 latent factors and regularization = 0.001: validation RMSE is 1.6331796773178384\n",
      "18 latent factors and regularization = 0.01: validation RMSE is 1.251681213474869\n",
      "18 latent factors and regularization = 0.05: validation RMSE is 1.0097665093445427\n",
      "18 latent factors and regularization = 0.1: validation RMSE is 0.949171704771728\n",
      "18 latent factors and regularization = 0.2: validation RMSE is 0.9510407663007319\n",
      "20 latent factors and regularization = 0.001: validation RMSE is 1.6222370736710667\n",
      "20 latent factors and regularization = 0.01: validation RMSE is 1.2539192155502017\n",
      "20 latent factors and regularization = 0.05: validation RMSE is 1.012744912814203\n",
      "20 latent factors and regularization = 0.1: validation RMSE is 0.9511971838807196\n",
      "20 latent factors and regularization = 0.2: validation RMSE is 0.9500236963537325\n",
      "\n",
      "The best model has 8 latent factors and regularization = 0.1\n",
      "Total Runtime: 1867.04 seconds\n"
     ]
    }
   ],
   "source": [
    "import time\n",
    "from pyspark.mllib.recommendation import ALS\n",
    "import math\n",
    "############# \n",
    "rawRatings = rawUserData.map(lambda line:line[:3]) # only need three columns\n",
    "ratingsRDD = rawRatings.map(lambda x:(int(x[0]),int(x[1]),int(x[2]))) # \n",
    "train, validation, test = ratingsRDD.randomSplit([6, 2, 2], seed=99)\n",
    "############# \n",
    "num_iterations = 10\n",
    "ranks = [8, 10, 12, 14, 16, 18, 20]\n",
    "reg_params = [0.001, 0.01, 0.05, 0.1, 0.2]\n",
    "\n",
    "# grid search and select best model\n",
    "start_time = time.time()\n",
    "final_model = train_ALS(train, validation, num_iterations, reg_params, ranks)\n",
    "\n",
    "print ('Total Runtime: {:.2f} seconds'.format(time.time() - start_time))"
   ]
  },
  {
   "cell_type": "code",
   "execution_count": 9,
   "metadata": {},
   "outputs": [],
   "source": [
    "import matplotlib.pyplot as plt\n",
    "def plot_learning_curve(arr_iters, train_data, validation_data, reg, rank):\n",
    "    \"\"\"\n",
    "    Plot function to show learning curve of ALS\n",
    "    \"\"\"\n",
    "    errors = []\n",
    "    for num_iters in arr_iters:\n",
    "        print(num_iters)\n",
    "        # train ALS model\n",
    "        model = ALS.train(\n",
    "            ratings=train_data,    # (userID, productID, rating) tuple\n",
    "            iterations=num_iters,\n",
    "            rank=rank,\n",
    "            lambda_=reg,           # regularization param\n",
    "            seed=99)\n",
    "        # make prediction\n",
    "        valid_data = validation_data.map(lambda p: (p[0], p[1]))\n",
    "        predictions = model.predictAll(valid_data).map(lambda r: ((r[0], r[1]), r[2]))\n",
    "        # get the rating result\n",
    "        ratesAndPreds = validation_data.map(lambda r: ((r[0], r[1]), r[2])).join(predictions)\n",
    "        # get the RMSE\n",
    "        MSE = ratesAndPreds.map(lambda r: (r[1][0] - r[1][1])**2).mean()\n",
    "        error = math.sqrt(MSE)\n",
    "        # add to errors\n",
    "        errors.append(error)\n",
    "\n",
    "    # plot\n",
    "    plt.figure(figsize=(12, 6))\n",
    "    plt.plot(arr_iters, errors)\n",
    "    plt.xlabel('number of iterations')\n",
    "    plt.ylabel('RMSE')\n",
    "    plt.title('ALS Learning Curve')\n",
    "    plt.grid(True)\n",
    "    plt.show()\n"
   ]
  },
  {
   "cell_type": "code",
   "execution_count": 10,
   "metadata": {},
   "outputs": [
    {
     "name": "stdout",
     "output_type": "stream",
     "text": [
      "1\n",
      "2\n",
      "3\n",
      "4\n",
      "5\n",
      "6\n",
      "7\n",
      "8\n",
      "9\n",
      "10\n"
     ]
    },
    {
     "data": {
      "image/png": "[encoded data removed]",
      "text/plain": [
       "<Figure size 864x432 with 1 Axes>"
      ]
     },
     "metadata": {
      "needs_background": "light"
     },
     "output_type": "display_data"
    }
   ],
   "source": [
    "# create an array of num_iters\n",
    "iter_array = list(range(1, 11))\n",
    "# create learning curve plot\n",
    "plot_learning_curve(iter_array, train, validation, 0.1, 8)"
   ]
  },
  {
   "cell_type": "code",
   "execution_count": 11,
   "metadata": {},
   "outputs": [
    {
     "name": "stdout",
     "output_type": "stream",
     "text": [
      "The out-of-sample RMSE of rating predictions is 0.9471\n"
     ]
    }
   ],
   "source": [
    "# make prediction using test data\n",
    "test_data = test.map(lambda p: (p[0], p[1]))\n",
    "predictions = final_model.predictAll(test_data).map(lambda r: ((r[0], r[1]), r[2]))\n",
    "# get the rating result\n",
    "ratesAndPreds = test.map(lambda r: ((r[0], r[1]), r[2])).join(predictions)\n",
    "# get the RMSE\n",
    "MSE = ratesAndPreds.map(lambda r: (r[1][0] - r[1][1])**2).mean()\n",
    "error = math.sqrt(MSE)\n",
    "print('The out-of-sample RMSE of rating predictions is', round(error, 4))"
   ]
  },
  {
   "cell_type": "code",
   "execution_count": 12,
   "metadata": {},
   "outputs": [
    {
     "name": "stdout",
     "output_type": "stream",
     "text": [
      "[[10001, 55, 5], [10001, 203, 4], [10001, 183, 5], [10001, 150, 5], [10001, 68, 4]]\n",
      "[(10001, 55, 5), (10001, 203, 4), (10001, 183, 5), (10001, 150, 5), (10001, 68, 4)]\n",
      "100000\n",
      "943\n",
      "unduplicated movie number:  1682\n",
      "the model is: <pyspark.mllib.recommendation.MatrixFactorizationModel object at 0x0000020983A7CA58>\n",
      "the rating of recommending movie 1141 to user 10001: 3.967847708086861\n",
      "the number of movies 1682\n",
      "Copycat \n",
      "For user10001recommend movie\n",
      "\n",
      "Angel Baby ; recommendation rating 5.124\n",
      "\n",
      "Pather Panchali ; recommendation rating 4.998\n",
      "\n",
      "Wrong Trousers, The ; recommendation rating 4.861\n",
      "\n",
      "Saint of Fort Washington, The ; recommendation rating 4.792\n",
      "\n",
      "Wallace & Gromit: The Best of Aardman Animation ; recommendation rating 4.784\n",
      "\n",
      "For movie: Wallace & Gromit: The Best of Aardman Animation \n",
      "\n",
      "recommend user 10034; recommendation rating 5.053\n",
      "\n",
      "recommend user 10928; recommendation rating 4.939\n",
      "\n",
      "recommend user 10004; recommendation rating 4.859\n",
      "\n",
      "recommend user 10310; recommendation rating 4.760\n",
      "\n",
      "recommend user 10173; recommendation rating 4.711\n",
      "\n"
     ]
    }
   ],
   "source": [
    "############application\n",
    "from pyspark.mllib.recommendation import Rating\n",
    "# step1: process data\n",
    "rawRatings = rawUserData.map(lambda line:line[:3])\n",
    "print(rawRatings.take(5))\n",
    "ratingsRDD = rawRatings.map(lambda x:(x[0],x[1],x[2])) \n",
    "print(ratingsRDD.take(5)) \n",
    "print(ratingsRDD.count()) \n",
    "\n",
    "# check unduplicated number of users\n",
    "numUsers = ratingsRDD.map(lambda x:x[0]).distinct().count()\n",
    "print(numUsers) # 943 users\n",
    "# check unduplicated number of movies\n",
    "numMovies = ratingsRDD.map(lambda x:x[1]).distinct().count()\n",
    "print('unduplicated movie number: ',numMovies)\n",
    "\n",
    "# step2:train model\n",
    "from pyspark.mllib.recommendation import ALS\n",
    "model = ALS.train(ratingsRDD,8,10,0.1) #parameter:data rank iterations reg rate\n",
    "print('the model is:',model)\n",
    "\n",
    "# step3:use model to recommend\n",
    "# check the rating of recommending a movie to a user\n",
    "print('the rating of recommending movie 1141 to user 10001:',model.predict(10001,1141))\n",
    "\n",
    "\n",
    "# step4:display the movie title\n",
    "print('the number of movies',itemRDD.count()) \n",
    "# create a dictionary of movie_id and title,key is movie_id, value is movie title\n",
    "movieTitle = itemRDD.map(lambda a:(float(a[0]),a[1])).collectAsMap() \n",
    "\n",
    "##recommend products\n",
    "recommendP = model.recommendProducts(10001,5) # the first parameter is user_id, the second is movie_id\n",
    "print('For user'+str(10001)+'recommend movie\\n')\n",
    "for p,rec in enumerate(recommendP):\n",
    "    print(str(movieTitle[rec.product])+'; recommendation rating '+'{:.3f}'.format(rec.rating)+'\\n')\n",
    "\n",
    "# recommend users\n",
    "recommendU = model.recommendUsers(product=30,num=5)\n",
    "print('For movie: '+str(movieTitle[rec.product])+'\\n')\n",
    "for i,rec in enumerate(recommendU):\n",
    "    print('recommend user '+str(rec.user)+'; recommendation rating '+'{:.3f}'.format(rec.rating)+'\\n')"
   ]
  }
 ],
 "metadata": {
  "kernelspec": {
   "display_name": "Python 3",
   "language": "python",
   "name": "python3"
  },
  "language_info": {
   "codemirror_mode": {
    "name": "ipython",
    "version": 3
   },
   "file_extension": ".py",
   "mimetype": "text/x-python",
   "name": "python",
   "nbconvert_exporter": "python",
   "pygments_lexer": "ipython3",
   "version": "3.7.1"
  }
 },
 "nbformat": 4,
 "nbformat_minor": 2
}
